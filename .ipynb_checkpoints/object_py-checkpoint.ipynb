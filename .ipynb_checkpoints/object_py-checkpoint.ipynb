{
 "cells": [
  {
   "cell_type": "markdown",
   "metadata": {
    "colab_type": "text",
    "id": "view-in-github"
   },
   "source": [
    "<a href=\"https://colab.research.google.com/github/BustamJos3/calculoDiagnosticoRedAireComprimido/blob/obj_py_backend%2FBustamJos3/object_py.ipynb\" target=\"_parent\"><img src=\"https://colab.research.google.com/assets/colab-badge.svg\" alt=\"Open In Colab\"/></a>"
   ]
  },
  {
   "cell_type": "code",
   "execution_count": 1,
   "metadata": {
    "colab": {
     "base_uri": "https://localhost:8080/"
    },
    "id": "4knR5uPBF8MF",
    "outputId": "3cb6ce73-1b71-447b-be0b-1ec3943615d2"
   },
   "outputs": [
    {
     "name": "stdout",
     "output_type": "stream",
     "text": [
      "Collecting fluids\n",
      "  Downloading fluids-1.0.23-py3-none-any.whl (1.5 MB)\n",
      "     ---------------------------------------- 1.5/1.5 MB 1.1 MB/s eta 0:00:00\n",
      "Requirement already satisfied: scipy>=0.9.0 in c:\\users\\admin\\anaconda3\\lib\\site-packages (from fluids) (1.10.0)\n",
      "Requirement already satisfied: numpy>=1.5.0 in c:\\users\\admin\\anaconda3\\lib\\site-packages (from fluids) (1.23.5)\n",
      "Installing collected packages: fluids\n",
      "Successfully installed fluids-1.0.23\n",
      "Collecting pint\n",
      "  Downloading Pint-0.21-py3-none-any.whl (286 kB)\n",
      "     ------------------------------------ 286.2/286.2 kB 929.1 kB/s eta 0:00:00\n",
      "Installing collected packages: pint\n",
      "Successfully installed pint-0.21\n"
     ]
    }
   ],
   "source": [
    "!pip install fluids\n",
    "!pip install pint\n",
    "\n",
    "import pint\n",
    "ureg = pint.UnitRegistry()\n",
    "from fluids.units import *\n",
    "\n",
    "class pipeCalculator:\n",
    "    def __init__(self,coors,accesories,inlet_P,total_caudal,delta_Pmax,secondPipes,height_of_system):\n",
    "        import numpy as np\n",
    "        workLong=np.sqrt(np.sum((coors[1]-coors[0])**2))\n",
    "        self._work_long=workLong*ureg.m\n",
    "        self._accesories=accesories\n",
    "        self._in_P=inlet_P*ureg.Pa\n",
    "        self._total_caudal=total_caudal*((ureg.m**3)/ureg.s)\n",
    "        self._delta_P=delta_Pmax\n",
    "        self._second_pipes=secondPipes\n",
    "        self._height_of_system=height_of_system*ureg.m\n",
    "\n",
    "    def atmospheric_properties(self):\n",
    "        from fluids.atmosphere import ATMOSPHERE_1976\n",
    "        atm_props=ATMOSPHERE_1976(Z=float(self._height_of_system.magnitude))\n",
    "        rhoDensity=atm_props.rho # get rho @ Medellín height\n",
    "        airMu=atm_props.viscosity(298) # dynamic viscosity @ T ambient *u.K\n",
    "        return rhoDensity,airMu\n",
    "\n",
    "    def checkdP_fromD(self,seedDia, workLong, kAcces, secondPipeSeedDia, secondPipeSects, inletP,Qtot):#find drop preassure\n",
    "        import numpy as np #modules\n",
    "        from fluids.fittings import Hooper2K, contraction_sharp\n",
    "        from fluids.core import Reynolds\n",
    "        from fluids.core import K_from_f\n",
    "        from fluids.core import dP_from_K\n",
    "        from fluids.friction import friction_factor\n",
    "        from fluids.friction import nearest_material_roughness, material_roughness\n",
    "        \n",
    "        areaFunction=lambda x: (np.pi*x**2)/4 #calculate pipe area\n",
    "        seedA=areaFunction(seedDia)\n",
    "        rhoDensity,airMu=self.atmospheric_properties() # get rho @ Medellín high, dynamic viscosity @ T ambient *u.K\n",
    "        V=Qtot/seedA # compressed air velocity\n",
    "        Re = Reynolds(V=V, D=seedDia, rho=rhoDensity, mu=airMu)#calculate reynolds u/u\n",
    "        epsilon=material_roughness( nearest_material_roughness('compressed air', clean=True), D=seedDia, optimism=True ) #*u.m roughness for pipe material\n",
    "        fd = friction_factor(Re, eD=epsilon/seedDia) # friction factor\n",
    "        k=0# klosses for friction factor and accesories\n",
    "        k+=K_from_f(fd=fd, L=workLong, D=seedDia)#add at first the losses from friction factor\n",
    "        for i in kAcces:#start of losses calculation from accesories\n",
    "            k+=Hooper2K(Di=seedDia,Re=Re,name=i)#losses for 1 accesory\n",
    "            #---->check number of accesories for that pipe\n",
    "        KContractions=secondPipeSects*contraction_sharp(Di1=seedDia,Di2=secondPipeSeedDia,fd=fd,roughness=epsilon) #loss for contractions from one pipe to another of different diameter\n",
    "        k+=KContractions#final of process adding losses for contractions\n",
    "        dropP=dP_from_K(k,rho=rhoDensity,V=V)# calculate drop preassure\n",
    "        dP=(dropP/inletP)*100 # DeltaP=deltaP_max?\n",
    "        return dP\n",
    "    \n",
    "    def find_diameter(self):#method to find min diameter\n",
    "        dP=self._delta_P\n",
    "        deltaP=10*dP\n",
    "        seedD=0.1 #*u.m seed diameter\n",
    "        seedD2=seedD*0.8\n",
    "        #attributes values\n",
    "        workL=self._work_long.magnitude\n",
    "        inP=self._in_P.magnitude\n",
    "        q_total=self._total_caudal.magnitude\n",
    "        while True:\n",
    "            deltaP=self.checkdP_fromD(seedDia=seedD,workLong=workL,kAcces=self._accesories,secondPipeSeedDia=seedD2,secondPipeSects=self._second_pipes,inletP=inP,Qtot=q_total)\n",
    "            if deltaP<=dP:\n",
    "                break\n",
    "            seedD+=seedD*0.05\n",
    "        seedDResult=round(seedD,3)*ureg.inches\n",
    "        return seedDResult"
   ]
  },
  {
   "cell_type": "code",
   "execution_count": 35,
   "metadata": {
    "id": "OJQ3vYawKTBj"
   },
   "outputs": [
    {
     "name": "stdout",
     "output_type": "stream",
     "text": [
      "Requirement already satisfied: mariadb in c:\\users\\admin\\anaconda3\\lib\\site-packages (1.1.6)\n",
      "Requirement already satisfied: packaging in c:\\users\\admin\\anaconda3\\lib\\site-packages (from mariadb) (22.0)\n"
     ]
    }
   ],
   "source": [
    "!pip install mariadb\n",
    "import mariadb\n",
    "\n",
    "class connection:\n",
    "    def __init__(self):\n",
    "        pass\n",
    "    #connection db to execute query\n",
    "    def query_connection(self,query):\n",
    "        try:\n",
    "            conn=mariadb.connect(\n",
    "            host=\"localhost\",\n",
    "            user=\"root\",\n",
    "            password=\"\",\n",
    "            database=\"red_aire\",\n",
    "            autocommit=True)\n",
    "        except Exception as err:\n",
    "            print(\"No fue posible conectarse\")\n",
    "            print(err)\n",
    "            \n",
    "        cur=conn.cursor()#cur to get query results\n",
    "        cur.execute(query)\n",
    "        return cur\n",
    "    \n",
    "    def mostrar(self,where=\"\"):\n",
    "        #every time mostrar(), results on visual must be deleted\n",
    "        #--->pending\n",
    "        try:\n",
    "            curPrimaria='SELECT * FROM `tuberiaprimaria`;'#query to get all tuberias primarias\n",
    "            cur=self.query_connection(curPrimaria)\n",
    "            if len(where)>0:#dato especifico para buscar en db existe?\n",
    "                try:\n",
    "                    curPrimaria_indexing='SELECT * FROM `tuberiaprimaria` WHERE `id_Primaria` = '+where#query to get data with specific value\n",
    "                    cur=self.query_connection(curPrimaria_indexing)#execute query\n",
    "                    for i in cur:#print results of specific tuberia primaria\n",
    "                        print(i)\n",
    "                except Exception as err:\n",
    "                    print('No fue posible obtener datos de la tubería primaria especifica')\n",
    "            for i in cur:#print results of all tuberias primarias\n",
    "                print(i)\n",
    "        except Exception as err:\n",
    "            print('No fue posible obtener datos de todas las tuberías primarias')\n",
    "            print(err)"
   ]
  },
  {
   "cell_type": "code",
   "execution_count": 37,
   "metadata": {},
   "outputs": [
    {
     "name": "stdout",
     "output_type": "stream",
     "text": [
      "(3, '(2000,4000,0)', '(5500,4000,0)', 'Stainless Steel', '2')\n",
      "(1, '(0,0,0)', '(2000,0,0)', 'Stainless Steel', '2')\n",
      "(2, '(2000,0,0)', '(2000,4000,0)', 'Stainless Steel', '2')\n",
      "(3, '(2000,4000,0)', '(5500,4000,0)', 'Stainless Steel', '2')\n",
      "(4, '(5500,4000,0)', '(8500,4000,0)', 'Stainless Steel', '2')\n",
      "(5, '(8500,4000,0)', '(11500,4000,0)', 'Stainless Steel', '2')\n",
      "(6, '(11500,4000,0)', '(14500,4000,0)', 'Stainless Steel', '2')\n"
     ]
    }
   ],
   "source": [
    "conexion=connection()\n",
    "conexion.mostrar(\"3\")\n",
    "conexion.mostrar()"
   ]
  }
 ],
 "metadata": {
  "colab": {
   "authorship_tag": "ABX9TyOHLYxX7VWS/5FTpYJMck5w",
   "include_colab_link": true,
   "provenance": []
  },
  "kernelspec": {
   "display_name": "Python 3 (ipykernel)",
   "language": "python",
   "name": "python3"
  },
  "language_info": {
   "codemirror_mode": {
    "name": "ipython",
    "version": 3
   },
   "file_extension": ".py",
   "mimetype": "text/x-python",
   "name": "python",
   "nbconvert_exporter": "python",
   "pygments_lexer": "ipython3",
   "version": "3.10.9"
  }
 },
 "nbformat": 4,
 "nbformat_minor": 1
}
