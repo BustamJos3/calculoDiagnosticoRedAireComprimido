{
  "nbformat": 4,
  "nbformat_minor": 0,
  "metadata": {
    "colab": {
      "provenance": [],
      "collapsed_sections": [
        "xniSC6E_6xje"
      ],
      "authorship_tag": "ABX9TyNnlyKnCwFrUSKp8hF1sotb",
      "include_colab_link": true
    },
    "kernelspec": {
      "name": "python3",
      "display_name": "Python 3"
    },
    "language_info": {
      "name": "python"
    }
  },
  "cells": [
    {
      "cell_type": "markdown",
      "metadata": {
        "id": "view-in-github",
        "colab_type": "text"
      },
      "source": [
        "<a href=\"https://colab.research.google.com/github/BustamJos3/calculoDiagnosticoRedAireComprimido/blob/BustamJos3%2FFirstContributions/inplementacionCodRAC_potencia.ipynb\" target=\"_parent\"><img src=\"https://colab.research.google.com/assets/colab-badge.svg\" alt=\"Open In Colab\"/></a>"
      ]
    },
    {
      "cell_type": "markdown",
      "source": [
        "# Alternative approach: given $D$, find $ΔP$ until $ΔP=0.02*P_{req}$\n",
        "With that $D$, choose respective accesories and recalculate $D$\n",
        "\n",
        "[Pressure drop through piping](https://fluids.readthedocs.io/tutorial.html#pressure-drop-through-piping)"
      ],
      "metadata": {
        "id": "xniSC6E_6xje"
      }
    },
    {
      "cell_type": "code",
      "source": [
        "!pip install pint"
      ],
      "metadata": {
        "colab": {
          "base_uri": "https://localhost:8080/"
        },
        "id": "eP83fXt2GGvr",
        "outputId": "f0032d89-8431-4cb2-c9d1-e104faa5d4ef"
      },
      "execution_count": null,
      "outputs": [
        {
          "output_type": "stream",
          "name": "stdout",
          "text": [
            "Looking in indexes: https://pypi.org/simple, https://us-python.pkg.dev/colab-wheels/public/simple/\n",
            "Requirement already satisfied: pint in /usr/local/lib/python3.8/dist-packages (0.20.1)\n"
          ]
        }
      ]
    },
    {
      "cell_type": "code",
      "source": [
        "from fluids.units import *\n",
        "from fluids.fittings import *\n",
        "from fluids.core import Reynolds\n",
        "from fluids.core import K_from_f\n",
        "from fluids.core import dP_from_K\n",
        "from fluids.friction import friction_factor\n",
        "from fluids.atmosphere import ATMOSPHERE_1976\n",
        "from fluids.friction import nearest_material_roughness, material_roughness"
      ],
      "metadata": {
        "id": "apgIdPHAmtXj"
      },
      "execution_count": null,
      "outputs": []
    },
    {
      "cell_type": "code",
      "source": [
        "atm =ATMOSPHERE_1976(Z=1495)#*u.m properties of air @ 1495[msnm]"
      ],
      "metadata": {
        "id": "Shf1CS_fZr6K"
      },
      "execution_count": null,
      "outputs": []
    },
    {
      "cell_type": "code",
      "source": [
        "seedD=0.089 #*u.m seed diameter"
      ],
      "metadata": {
        "id": "-hAWRAD1f0cm"
      },
      "execution_count": null,
      "outputs": []
    },
    {
      "cell_type": "code",
      "source": [
        "import numpy as np"
      ],
      "metadata": {
        "id": "zTM22DmGqiiF"
      },
      "execution_count": null,
      "outputs": []
    },
    {
      "cell_type": "code",
      "source": [
        "numberOfMachines=np.array([4,7,7,4,3])\n",
        "flowPerMachine=np.array([567,85,142,50,40])*1.66667E-5 #*(u.L/u.min) to *(u.m**(3)/u.s) air flow on SI\n",
        "utilizationCoeff=np.array([1,0.8,0.75,0.6,0.7])\n",
        "partialQ=numberOfMachines*flowPerMachine*utilizationCoeff\n",
        "totalQ=np.sum(partialQ) # calculate total flow\n",
        "totalQ"
      ],
      "metadata": {
        "colab": {
          "base_uri": "https://localhost:8080/"
        },
        "id": "lx_mFN9iqUvw",
        "outputId": "c203361e-b638-4165-f1ff-6ef3ce612e7a"
      },
      "execution_count": null,
      "outputs": [
        {
          "output_type": "execute_result",
          "data": {
            "text/plain": [
              "0.06155845645000001"
            ]
          },
          "metadata": {},
          "execution_count": 46
        }
      ]
    },
    {
      "cell_type": "code",
      "source": [
        "workLongitude=20 #*u.m longitude of pipe section\n",
        "areaFunction=lambda x: (np.pi*x**2)/4 #calculate pipe area\n",
        "seedA=areaFunction(seedD)\n",
        "rhoDensity=atm.rho # get rho @ Medellín high\n",
        "airMu=atm.viscosity(T=298) # dynamic viscosity @ T ambient *u.K\n",
        "V=totalQ/seedA # compressed air velocity\n",
        "Re = Reynolds(V=V, D=seedD, rho=rhoDensity, mu=airMu)\n",
        "epsilon=material_roughness( nearest_material_roughness('compressed air', clean=True), D=seedD, optimism=True )*u.m # roughness for pipe material\n",
        "fd = friction_factor(Re, eD=epsilon.to_tuple()[0]/seedD) # friction factor\n",
        "fd"
      ],
      "metadata": {
        "id": "cnqX7F_XGBTU",
        "colab": {
          "base_uri": "https://localhost:8080/"
        },
        "outputId": "4d566a9f-9a9a-49ce-a5db-88799ac98896"
      },
      "execution_count": null,
      "outputs": [
        {
          "output_type": "execute_result",
          "data": {
            "text/plain": [
              "0.02495281749267308"
            ]
          },
          "metadata": {},
          "execution_count": 47
        }
      ]
    },
    {
      "cell_type": "code",
      "source": [
        "secondaryPipeD=seedD*0.8\n",
        "secondaryPipeSections=5"
      ],
      "metadata": {
        "id": "9fLQ0Wzky6AN"
      },
      "execution_count": null,
      "outputs": []
    },
    {
      "cell_type": "code",
      "source": [
        "k=0# klosses for ff and accesories\n",
        "k+=K_from_f(fd=fd, L=workLongitude, D=seedD)\n",
        "kAccesories=[('Elbow, 90°, Long-radius (R/D = 1.5), All types',5),('Tee, Run, Screwed', 5), ('Valve, Ball, Reduced trim, Beta = 0.9',1)] #elbows, tees, valves\n",
        "for i in kAccesories:\n",
        "    k+=Hooper2K(Di=seedD,Re=Re,name=i[0])*i[1] # seedD.to_tuple()[0]\n",
        "KContractions=secondaryPipeSections*contraction_sharp(Di1=seedD,Di2=secondaryPipeD,fd=fd,roughness=epsilon) #loss for contraction to SecondarySection\n",
        "k+=KContractions\n",
        "k"
      ],
      "metadata": {
        "colab": {
          "base_uri": "https://localhost:8080/"
        },
        "id": "DmYkTDBRucoS",
        "outputId": "8030892a-e2ce-4246-8ba2-90e56c9ff7e0"
      },
      "execution_count": null,
      "outputs": [
        {
          "output_type": "execute_result",
          "data": {
            "text/plain": [
              "27.056748363760533"
            ]
          },
          "metadata": {},
          "execution_count": 49
        }
      ]
    },
    {
      "cell_type": "code",
      "source": [
        "inletP=6.3*u.bar\n",
        "dropP=dP_from_K(k,rho=rhoDensity,V=V)# calculate drop preassure\n",
        "dropP=dropP*u.Pa\n",
        "dropP.to('bar')/inletP*100 #DeltaP=2%?"
      ],
      "metadata": {
        "colab": {
          "base_uri": "https://localhost:8080/",
          "height": 34
        },
        "id": "xZn2wDxRvplt",
        "outputId": "c135b828-0868-47b8-efb1-0f9414e246be"
      },
      "execution_count": null,
      "outputs": [
        {
          "output_type": "execute_result",
          "data": {
            "text/plain": [
              "0.2225792420415321 <Unit('dimensionless')>"
            ],
            "text/html": [
              "0.2225792420415321 dimensionless"
            ],
            "text/latex": "$0.2225792420415321\\ dimensionless$"
          },
          "metadata": {},
          "execution_count": 51
        }
      ]
    },
    {
      "cell_type": "markdown",
      "source": [
        "# Plain implementation"
      ],
      "metadata": {
        "id": "feY0dUC5_vFt"
      }
    },
    {
      "cell_type": "code",
      "source": [
        "!pip install fluids\n",
        "!pip install pint"
      ],
      "metadata": {
        "colab": {
          "base_uri": "https://localhost:8080/"
        },
        "id": "J4YnrUd6Gkwh",
        "outputId": "1dd0cb2d-b117-4b16-b2c4-ed83d0b985bc"
      },
      "execution_count": null,
      "outputs": [
        {
          "output_type": "stream",
          "name": "stdout",
          "text": [
            "Looking in indexes: https://pypi.org/simple, https://us-python.pkg.dev/colab-wheels/public/simple/\n",
            "Collecting fluids\n",
            "  Downloading fluids-1.0.22-py3-none-any.whl (2.3 MB)\n",
            "\u001b[2K     \u001b[90m━━━━━━━━━━━━━━━━━━━━━━━━━━━━━━━━━━━━━━━━\u001b[0m \u001b[32m2.3/2.3 MB\u001b[0m \u001b[31m24.5 MB/s\u001b[0m eta \u001b[36m0:00:00\u001b[0m\n",
            "\u001b[?25hRequirement already satisfied: numpy>=1.5.0 in /usr/local/lib/python3.8/dist-packages (from fluids) (1.22.4)\n",
            "Requirement already satisfied: scipy>=0.9.0 in /usr/local/lib/python3.8/dist-packages (from fluids) (1.7.3)\n",
            "Installing collected packages: fluids\n",
            "Successfully installed fluids-1.0.22\n",
            "Looking in indexes: https://pypi.org/simple, https://us-python.pkg.dev/colab-wheels/public/simple/\n",
            "Collecting pint\n",
            "  Downloading Pint-0.20.1-py3-none-any.whl (269 kB)\n",
            "\u001b[2K     \u001b[90m━━━━━━━━━━━━━━━━━━━━━━━━━━━━━━━━━━━━━━━\u001b[0m \u001b[32m269.5/269.5 KB\u001b[0m \u001b[31m5.5 MB/s\u001b[0m eta \u001b[36m0:00:00\u001b[0m\n",
            "\u001b[?25hInstalling collected packages: pint\n",
            "Successfully installed pint-0.20.1\n"
          ]
        }
      ]
    },
    {
      "cell_type": "code",
      "source": [
        "import numpy as np #external modules\n",
        "from fluids.atmosphere import ATMOSPHERE_1976"
      ],
      "metadata": {
        "id": "o9YMK-PJLIjU"
      },
      "execution_count": null,
      "outputs": []
    },
    {
      "cell_type": "markdown",
      "source": [
        "## $T_P$"
      ],
      "metadata": {
        "id": "5qG0fqlu_zmH"
      }
    },
    {
      "cell_type": "code",
      "source": [
        "numberOfMachines=np.array([4,7,7,4,3])\n",
        "flowPerMachines=np.array([567,85,142,50,40])*1.66667E-5 #*(u.L/u.min) to *(u.m**(3)/u.s) air flow on SI\n",
        "utilizationCoeffs=np.array([1,0.8,0.75,0.6,0.7])\n",
        "partialQ=numberOfMachines*flowPerMachines*utilizationCoeffs\n",
        "Q=np.sum(partialQ) # calculate total flow\n",
        "securityF=np.array([0.15,0.1,0.1,0.2])\n",
        "securityFatQ=securityF*Q\n",
        "totalQ=np.sum(securityFatQ)\n",
        "atm=ATMOSPHERE_1976(1495)#*u.m properties of air @ 1495[msnm]\n",
        "seedD=0.089 #*u.m seed diameter\n",
        "workLongitude=20 #*u.m longitude of pipe section\n",
        "secondaryPipeDia=seedD*0.8 #diameter to contraction from TP to TS\n",
        "secondaryPipeSecs=5 #number of TS\n",
        "kAccesories=[('Elbow, 90°, Long-radius (R/D = 1.5), All types',secondaryPipeSecs),('Tee, Run, Screwed', secondaryPipeSecs), ('Valve, Ball, Reduced trim, Beta = 0.9',1)] #elbows, tees, valves\n",
        "inP=6.3 #*u.bar"
      ],
      "metadata": {
        "id": "TPI1JxE__ruf"
      },
      "execution_count": null,
      "outputs": []
    },
    {
      "cell_type": "code",
      "source": [
        "def checkdP_fromD(seedDia, atmObj, workLong, kAcces, secondPipeD, secondPipeSects, inletP,Qtot):\n",
        "    import numpy as np #modules\n",
        "    from fluids.fittings import Hooper2K, contraction_sharp\n",
        "    from fluids.core import Reynolds\n",
        "    from fluids.core import K_from_f\n",
        "    from fluids.core import dP_from_K\n",
        "    from fluids.friction import friction_factor\n",
        "    from fluids.friction import nearest_material_roughness, material_roughness\n",
        "    \n",
        "    areaFunction=lambda x: (np.pi*x**2)/4 #calculate pipe area\n",
        "    seedA=areaFunction(seedDia)\n",
        "    rhoDensity=atmObj.rho # get rho @ Medellín high\n",
        "    airMu=atmObj.viscosity(298) # dynamic viscosity @ T ambient *u.K\n",
        "    V=Qtot/seedA # compressed air velocity\n",
        "    Re = Reynolds(V=V, D=seedDia, rho=rhoDensity, mu=airMu)\n",
        "    epsilon=material_roughness( nearest_material_roughness('compressed air', clean=True), D=seedDia, optimism=True ) #*u.m roughness for pipe material\n",
        "    fd = friction_factor(Re, eD=epsilon/seedDia) # friction factor\n",
        "    k=0# klosses for ff and accesories\n",
        "    k+=K_from_f(fd=fd, L=workLong, D=seedDia)\n",
        "    for i in kAcces:\n",
        "        k+=Hooper2K(Di=seedDia,Re=Re,name=i[0])*i[1] # seedD.to_tuple()[0]\n",
        "    KContractions=secondPipeSects*contraction_sharp(Di1=seedDia,Di2=secondPipeD,fd=fd,roughness=epsilon) #loss for contraction to SecondarySection\n",
        "    k+=KContractions\n",
        "    dropP=dP_from_K(k,rho=rhoDensity,V=V)# calculate drop preassure\n",
        "    dP=dropP/(inletP*10E5) # DeltaP=2%?\n",
        "    return dP"
      ],
      "metadata": {
        "id": "5cD7o9v6AieB"
      },
      "execution_count": null,
      "outputs": []
    },
    {
      "cell_type": "code",
      "source": [
        "checkdP_fromD(seedDia=seedD, atmObj=atm, workLong=workLongitude, kAcces=kAccesories, secondPipeD=secondaryPipeDia, secondPipeSects=secondaryPipeSecs, inletP=inP, Qtot=totalQ)*100"
      ],
      "metadata": {
        "id": "hqHqDoxvLr8v"
      },
      "execution_count": null,
      "outputs": []
    },
    {
      "cell_type": "markdown",
      "source": [
        "## $T_{Ss}$"
      ],
      "metadata": {
        "id": "HRs0YjVtjO3w"
      }
    },
    {
      "cell_type": "code",
      "source": [
        "seedDs=secondaryPipeDia #diameter to iterate\n",
        "secondWorkL=10#long of second pipe section\n",
        "servicePipeD=seedDs*0.8#contraction diameter to service pipe\n",
        "servicePipeSects=numberOfMachines#the sections are equal to the number of machines\n",
        "list_dpSecondPipes=[]#to store dropP of respective pressure\n",
        "for i,j in zip(servicePipeSects, numberOfMachines):\n",
        "    secondKAcces=[('Elbow, 90°, Long-radius (R/D = 1.5), All types',i),('Tee, Run, Screwed', i), ('Valve, Ball, Reduced trim, Beta = 0.9',1)]\n",
        "    secondDropPi=checkdP_fromD(seedDia=seedDs, atmObj=atm, workLong=secondWorkL, kAcces=secondKAcces, secondPipeD=servicePipeD, secondPipeSects=j, inletP=inP, Qtot=totalQ)\n",
        "    list_dpSecondPipes.append(secondDropPi)"
      ],
      "metadata": {
        "id": "x7SR8jKIjVQe"
      },
      "execution_count": null,
      "outputs": []
    },
    {
      "cell_type": "code",
      "source": [
        "list_dpSecondPipes*100"
      ],
      "metadata": {
        "id": "mdWLF7zz3W62"
      },
      "execution_count": null,
      "outputs": []
    },
    {
      "cell_type": "markdown",
      "source": [
        "# Units conversion to fill conventional data"
      ],
      "metadata": {
        "id": "KWFAT7DETkGR"
      }
    },
    {
      "cell_type": "code",
      "source": [
        "from fluids.units import *"
      ],
      "metadata": {
        "id": "4dD-3zOCTpzI"
      },
      "execution_count": null,
      "outputs": []
    },
    {
      "cell_type": "markdown",
      "source": [
        "## $Q_{partial}[CFM]$"
      ],
      "metadata": {
        "id": "7kT-mfVTXW7Z"
      }
    },
    {
      "cell_type": "code",
      "source": [
        "convenFlowPerMachines=flowPerMachines*((u.m**3)/u.s)\n",
        "[round(i,3) for i in convenFlowPerMachines.to(other='(u.cubic_feet)/(u.min)')*utilizationCoeffs]"
      ],
      "metadata": {
        "colab": {
          "base_uri": "https://localhost:8080/"
        },
        "id": "TW-ZUQviTuQw",
        "outputId": "8d4eed41-df57-41dc-ad62-5c6a2999e3fe"
      },
      "execution_count": null,
      "outputs": [
        {
          "output_type": "execute_result",
          "data": {
            "text/plain": [
              "[20.023 <Unit('cubic_foot / minute')>,\n",
              " 2.401 <Unit('cubic_foot / minute')>,\n",
              " 3.761 <Unit('cubic_foot / minute')>,\n",
              " 1.059 <Unit('cubic_foot / minute')>,\n",
              " 0.989 <Unit('cubic_foot / minute')>]"
            ]
          },
          "metadata": {},
          "execution_count": 7
        }
      ]
    },
    {
      "cell_type": "markdown",
      "source": [
        "## $Q_{tot}[CFM]$"
      ],
      "metadata": {
        "id": "8reQrWUrXQiq"
      }
    },
    {
      "cell_type": "code",
      "source": [
        "Qtot_CFM=round(np.sum(convenFlowPerMachines.to(other='(u.cubic_feet)/(u.min)')*utilizationCoeffs),3)\n",
        "Qtot_CFM"
      ],
      "metadata": {
        "colab": {
          "base_uri": "https://localhost:8080/",
          "height": 34
        },
        "id": "MqgV5XZ9UFck",
        "outputId": "8050afb2-4e90-47bf-cd0f-791f2a6f7dc5"
      },
      "execution_count": null,
      "outputs": [
        {
          "output_type": "execute_result",
          "data": {
            "text/plain": [
              "28.234 <Unit('cubic_foot / minute')>"
            ],
            "text/html": [
              "28.234 cubic_foot/minute"
            ],
            "text/latex": "$28.234\\ \\frac{\\mathrm{cubic\\_foot}}{\\mathrm{minute}}$"
          },
          "metadata": {},
          "execution_count": 8
        }
      ]
    },
    {
      "cell_type": "markdown",
      "source": [
        "## $Q_{totFS}[CFM]$\n",
        "Flow set at security factors"
      ],
      "metadata": {
        "id": "pVIycqB5bK8W"
      }
    },
    {
      "cell_type": "code",
      "source": [
        "np.sum(securityF*Qtot_CFM)+Qtot_CFM, securityF*Qtot_CFM"
      ],
      "metadata": {
        "colab": {
          "base_uri": "https://localhost:8080/"
        },
        "id": "OFbRl3zjd_UL",
        "outputId": "dad80b02-9c62-4d93-c26f-d84ec0f8f332"
      },
      "execution_count": null,
      "outputs": [
        {
          "output_type": "execute_result",
          "data": {
            "text/plain": [
              "(43.7627 <Unit('cubic_foot / minute')>,\n",
              " array([4.2351, 2.8234, 2.8234, 5.6468]) <Unit('cubic_foot / minute')>)"
            ]
          },
          "metadata": {},
          "execution_count": 12
        }
      ]
    }
  ]
}